{
 "cells": [
  {
   "cell_type": "code",
   "execution_count": 1,
   "metadata": {},
   "outputs": [
    {
     "name": "stderr",
     "output_type": "stream",
     "text": [
      "/Users/Marvin/opt/miniconda3/lib/python3.9/site-packages/scipy/__init__.py:146: UserWarning: A NumPy version >=1.16.5 and <1.23.0 is required for this version of SciPy (detected version 1.24.0\n",
      "  warnings.warn(f\"A NumPy version >={np_minversion} and <{np_maxversion}\"\n"
     ]
    }
   ],
   "source": [
    "from Agent_Tree_5 import *"
   ]
  },
  {
   "cell_type": "code",
   "execution_count": 2,
   "metadata": {},
   "outputs": [],
   "source": [
    "# Hyperparameters\n",
    "gamma = 0.75\n",
    "nb_trials = 100\n",
    "nb_episodes = 10000\n",
    "learning_rate = 7e-6\n",
    "eps = 1e-7\n",
    "beta_v = 0.05\n",
    "beta_e = 0.05\n",
    "nb_agent = 5"
   ]
  },
  {
   "cell_type": "markdown",
   "metadata": {},
   "source": [
    "# Prepare"
   ]
  },
  {
   "cell_type": "code",
   "execution_count": 3,
   "metadata": {},
   "outputs": [],
   "source": [
    "rail_generator = sparse_rail_generator(max_num_cities=10)\n",
    "\n",
    "env = RailEnv(\n",
    "    width=30, \n",
    "    height=30, \n",
    "    number_of_agents=nb_agent,\n",
    "    rail_generator=rail_generator,\n",
    "    line_generator=sparse_line_generator(),\n",
    "    obs_builder_object=TreeObsForRailEnv(max_depth=2, predictor=ShortestPathPredictorForRailEnv(30)),\n",
    "    )\n",
    "\n",
    "# env.stop_penalty = -1\n",
    "# env.invalid_action_penalty = -1\n",
    "# env.alpha = 1"
   ]
  },
  {
   "cell_type": "code",
   "execution_count": 5,
   "metadata": {},
   "outputs": [
    {
     "name": "stdout",
     "output_type": "stream",
     "text": [
      "(231,)\n"
     ]
    },
    {
     "name": "stderr",
     "output_type": "stream",
     "text": [
      "/Users/Marvin/opt/miniconda3/lib/python3.9/site-packages/flatland/envs/rail_generators.py:350: UserWarning: Could not set all required cities! Created 3/4\n",
      "  warnings.warn(city_warning)\n"
     ]
    }
   ],
   "source": [
    "obs, _ = env.reset()\n",
    "obs = normalize_observation(obs[1], tree_depth=2, observation_radius=10)\n",
    "print(obs.shape)"
   ]
  },
  {
   "cell_type": "code",
   "execution_count": 5,
   "metadata": {},
   "outputs": [
    {
     "name": "stderr",
     "output_type": "stream",
     "text": [
      "2023-01-16 11:00:41.803415: I tensorflow/core/platform/cpu_feature_guard.cc:193] This TensorFlow binary is optimized with oneAPI Deep Neural Network Library (oneDNN) to use the following CPU instructions in performance-critical operations:  SSE4.1 SSE4.2\n",
      "To enable them in other operations, rebuild TensorFlow with the appropriate compiler flags.\n"
     ]
    }
   ],
   "source": [
    "# Save Paths\n",
    "path = \"train_LSTMCell_A2C/\" + datetime.now().strftime(\"%m%d-%H:%M:%S\") + \"_adam_lr7e-6_g0.75_tree_noEntropy\"\n",
    "log_dir = path+'/logs/'\n",
    "ckpt_dir = path+'/ckpt/'\n",
    "train_summary_writer = tf.summary.create_file_writer(log_dir)"
   ]
  },
  {
   "cell_type": "code",
   "execution_count": 6,
   "metadata": {},
   "outputs": [],
   "source": [
    "agent_id = 0\n",
    "agent = LSTMAgent(learning_rate, gamma, beta_v, beta_e,  #loss func\n",
    "                 env, nb_trials, nb_agent, nb_episodes,path,\n",
    "                 nb_hidden = 128)"
   ]
  },
  {
   "cell_type": "markdown",
   "metadata": {},
   "source": [
    "# Train"
   ]
  },
  {
   "cell_type": "code",
   "execution_count": 7,
   "metadata": {
    "pycharm": {
     "is_executing": true
    }
   },
   "outputs": [
    {
     "name": "stderr",
     "output_type": "stream",
     "text": [
      "/Users/Marvin/opt/miniconda3/lib/python3.9/site-packages/flatland/envs/rail_generators.py:350: UserWarning: Could not set all required cities! Created 2/4\n",
      "  warnings.warn(city_warning)\n",
      "/Users/Marvin/opt/miniconda3/lib/python3.9/site-packages/flatland/envs/rail_generators.py:350: UserWarning: Could not set all required cities! Created 1/4\n",
      "  warnings.warn(city_warning)\n",
      "/Users/Marvin/opt/miniconda3/lib/python3.9/site-packages/flatland/envs/rail_generators.py:262: UserWarning: [WARNING] Changing to Grid mode to place at least 2 cities.\n",
      "  warnings.warn(\"[WARNING] Changing to Grid mode to place at least 2 cities.\")\n"
     ]
    },
    {
     "ename": "KeyboardInterrupt",
     "evalue": "",
     "output_type": "error",
     "traceback": [
      "\u001b[0;31m---------------------------------------------------------------------------\u001b[0m",
      "\u001b[0;31mKeyboardInterrupt\u001b[0m                         Traceback (most recent call last)",
      "\u001b[0;32m/var/folders/yj/cc8p36j97cvgvkft3_74qy840000gp/T/ipykernel_93233/2197747059.py\u001b[0m in \u001b[0;36m<module>\u001b[0;34m\u001b[0m\n\u001b[0;32m----> 1\u001b[0;31m \u001b[0magent\u001b[0m\u001b[0;34m.\u001b[0m\u001b[0mtrain\u001b[0m\u001b[0;34m(\u001b[0m\u001b[0;34m)\u001b[0m\u001b[0;34m\u001b[0m\u001b[0;34m\u001b[0m\u001b[0m\n\u001b[0m",
      "\u001b[0;32m~/Documents/UNI/S9/COCOMA/ChooChoo.nosync/Agent_Tree.py\u001b[0m in \u001b[0;36mtrain\u001b[0;34m(self)\u001b[0m\n\u001b[1;32m    134\u001b[0m \u001b[0;34m\u001b[0m\u001b[0m\n\u001b[1;32m    135\u001b[0m                     \u001b[0;31m# Apply the sampled action in our environment\u001b[0m\u001b[0;34m\u001b[0m\u001b[0;34m\u001b[0m\u001b[0;34m\u001b[0m\u001b[0m\n\u001b[0;32m--> 136\u001b[0;31m                     \u001b[0mnext_obs\u001b[0m\u001b[0;34m,\u001b[0m \u001b[0mall_rewards\u001b[0m\u001b[0;34m,\u001b[0m \u001b[0mdones\u001b[0m\u001b[0;34m,\u001b[0m \u001b[0minfo\u001b[0m \u001b[0;34m=\u001b[0m \u001b[0mself\u001b[0m\u001b[0;34m.\u001b[0m\u001b[0menv\u001b[0m\u001b[0;34m.\u001b[0m\u001b[0mstep\u001b[0m\u001b[0;34m(\u001b[0m\u001b[0;34m{\u001b[0m\u001b[0mself\u001b[0m\u001b[0;34m.\u001b[0m\u001b[0magent_id\u001b[0m\u001b[0;34m:\u001b[0m \u001b[0maction\u001b[0m\u001b[0;34m}\u001b[0m\u001b[0;34m)\u001b[0m\u001b[0;34m\u001b[0m\u001b[0;34m\u001b[0m\u001b[0m\n\u001b[0m\u001b[1;32m    137\u001b[0m                     \u001b[0mreward\u001b[0m \u001b[0;34m=\u001b[0m \u001b[0mall_rewards\u001b[0m\u001b[0;34m[\u001b[0m\u001b[0mself\u001b[0m\u001b[0;34m.\u001b[0m\u001b[0magent_id\u001b[0m\u001b[0;34m]\u001b[0m\u001b[0;34m\u001b[0m\u001b[0;34m\u001b[0m\u001b[0m\n\u001b[1;32m    138\u001b[0m                     \u001b[0mdone\u001b[0m \u001b[0;34m=\u001b[0m \u001b[0mdones\u001b[0m\u001b[0;34m[\u001b[0m\u001b[0;36m0\u001b[0m\u001b[0;34m]\u001b[0m\u001b[0;34m\u001b[0m\u001b[0;34m\u001b[0m\u001b[0m\n",
      "\u001b[0;32m~/opt/miniconda3/lib/python3.9/site-packages/flatland/envs/rail_env.py\u001b[0m in \u001b[0;36mstep\u001b[0;34m(self, action_dict_)\u001b[0m\n\u001b[1;32m    527\u001b[0m             \u001b[0maction\u001b[0m \u001b[0;34m=\u001b[0m \u001b[0maction_dict_\u001b[0m\u001b[0;34m.\u001b[0m\u001b[0mget\u001b[0m\u001b[0;34m(\u001b[0m\u001b[0mi_agent\u001b[0m\u001b[0;34m,\u001b[0m \u001b[0mRailEnvActions\u001b[0m\u001b[0;34m.\u001b[0m\u001b[0mDO_NOTHING\u001b[0m\u001b[0;34m)\u001b[0m\u001b[0;34m\u001b[0m\u001b[0;34m\u001b[0m\u001b[0m\n\u001b[1;32m    528\u001b[0m \u001b[0;34m\u001b[0m\u001b[0m\n\u001b[0;32m--> 529\u001b[0;31m             \u001b[0mpreprocessed_action\u001b[0m \u001b[0;34m=\u001b[0m \u001b[0mself\u001b[0m\u001b[0;34m.\u001b[0m\u001b[0mpreprocess_action\u001b[0m\u001b[0;34m(\u001b[0m\u001b[0maction\u001b[0m\u001b[0;34m,\u001b[0m \u001b[0magent\u001b[0m\u001b[0;34m)\u001b[0m\u001b[0;34m\u001b[0m\u001b[0;34m\u001b[0m\u001b[0m\n\u001b[0m\u001b[1;32m    530\u001b[0m \u001b[0;34m\u001b[0m\u001b[0m\n\u001b[1;32m    531\u001b[0m             \u001b[0;31m# Save moving actions in not already saved\u001b[0m\u001b[0;34m\u001b[0m\u001b[0;34m\u001b[0m\u001b[0;34m\u001b[0m\u001b[0m\n",
      "\u001b[0;32m~/opt/miniconda3/lib/python3.9/site-packages/flatland/envs/rail_env.py\u001b[0m in \u001b[0;36mpreprocess_action\u001b[0;34m(self, action, agent)\u001b[0m\n\u001b[1;32m    430\u001b[0m             \u001b[0;34m*\u001b[0m \u001b[0mCheck\u001b[0m \u001b[0mMOVE_LEFT\u001b[0m\u001b[0;34m/\u001b[0m\u001b[0mMOVE_RIGHT\u001b[0m \u001b[0mactions\u001b[0m \u001b[0mon\u001b[0m \u001b[0mcurrent\u001b[0m \u001b[0mposition\u001b[0m \u001b[0;32melse\u001b[0m \u001b[0;32mtry\u001b[0m \u001b[0mMOVE_FORWARD\u001b[0m\u001b[0;34m\u001b[0m\u001b[0;34m\u001b[0m\u001b[0m\n\u001b[1;32m    431\u001b[0m         \"\"\"\n\u001b[0;32m--> 432\u001b[0;31m         \u001b[0maction\u001b[0m \u001b[0;34m=\u001b[0m \u001b[0maction_preprocessing\u001b[0m\u001b[0;34m.\u001b[0m\u001b[0mpreprocess_raw_action\u001b[0m\u001b[0;34m(\u001b[0m\u001b[0maction\u001b[0m\u001b[0;34m,\u001b[0m \u001b[0magent\u001b[0m\u001b[0;34m.\u001b[0m\u001b[0mstate\u001b[0m\u001b[0;34m,\u001b[0m \u001b[0magent\u001b[0m\u001b[0;34m.\u001b[0m\u001b[0maction_saver\u001b[0m\u001b[0;34m.\u001b[0m\u001b[0msaved_action\u001b[0m\u001b[0;34m)\u001b[0m\u001b[0;34m\u001b[0m\u001b[0;34m\u001b[0m\u001b[0m\n\u001b[0m\u001b[1;32m    433\u001b[0m         \u001b[0maction\u001b[0m \u001b[0;34m=\u001b[0m \u001b[0maction_preprocessing\u001b[0m\u001b[0;34m.\u001b[0m\u001b[0mpreprocess_action_when_waiting\u001b[0m\u001b[0;34m(\u001b[0m\u001b[0maction\u001b[0m\u001b[0;34m,\u001b[0m \u001b[0magent\u001b[0m\u001b[0;34m.\u001b[0m\u001b[0mstate\u001b[0m\u001b[0;34m)\u001b[0m\u001b[0;34m\u001b[0m\u001b[0;34m\u001b[0m\u001b[0m\n\u001b[1;32m    434\u001b[0m \u001b[0;34m\u001b[0m\u001b[0m\n",
      "\u001b[0;32m~/opt/miniconda3/lib/python3.9/site-packages/flatland/envs/step_utils/action_preprocessing.py\u001b[0m in \u001b[0;36mpreprocess_raw_action\u001b[0;34m(action, state, saved_action)\u001b[0m\n\u001b[1;32m     42\u001b[0m         \u001b[0;34m-\u001b[0m \u001b[0mDO_NOTHING\u001b[0m \u001b[0;32mis\u001b[0m \u001b[0mconverted\u001b[0m \u001b[0mto\u001b[0m \u001b[0mFORWARD\u001b[0m \u001b[0;32mif\u001b[0m \u001b[0mtrain\u001b[0m \u001b[0;32mis\u001b[0m \u001b[0mmoving\u001b[0m\u001b[0;34m\u001b[0m\u001b[0;34m\u001b[0m\u001b[0m\n\u001b[1;32m     43\u001b[0m     \"\"\"\n\u001b[0;32m---> 44\u001b[0;31m     \u001b[0maction\u001b[0m \u001b[0;34m=\u001b[0m \u001b[0mprocess_illegal_action\u001b[0m\u001b[0;34m(\u001b[0m\u001b[0maction\u001b[0m\u001b[0;34m)\u001b[0m\u001b[0;34m\u001b[0m\u001b[0;34m\u001b[0m\u001b[0m\n\u001b[0m\u001b[1;32m     45\u001b[0m \u001b[0;34m\u001b[0m\u001b[0m\n\u001b[1;32m     46\u001b[0m     \u001b[0;32mif\u001b[0m \u001b[0maction\u001b[0m \u001b[0;34m==\u001b[0m \u001b[0mRailEnvActions\u001b[0m\u001b[0;34m.\u001b[0m\u001b[0mDO_NOTHING\u001b[0m\u001b[0;34m:\u001b[0m\u001b[0;34m\u001b[0m\u001b[0;34m\u001b[0m\u001b[0m\n",
      "\u001b[0;32m~/opt/miniconda3/lib/python3.9/site-packages/flatland/envs/step_utils/action_preprocessing.py\u001b[0m in \u001b[0;36mprocess_illegal_action\u001b[0;34m(action)\u001b[0m\n\u001b[1;32m      9\u001b[0m                 \u001b[0;32mreturn\u001b[0m \u001b[0mRailEnvActions\u001b[0m\u001b[0;34m.\u001b[0m\u001b[0mDO_NOTHING\u001b[0m\u001b[0;34m\u001b[0m\u001b[0;34m\u001b[0m\u001b[0m\n\u001b[1;32m     10\u001b[0m         \u001b[0;32melse\u001b[0m\u001b[0;34m:\u001b[0m\u001b[0;34m\u001b[0m\u001b[0;34m\u001b[0m\u001b[0m\n\u001b[0;32m---> 11\u001b[0;31m                 \u001b[0;32mreturn\u001b[0m \u001b[0mRailEnvActions\u001b[0m\u001b[0;34m(\u001b[0m\u001b[0maction\u001b[0m\u001b[0;34m)\u001b[0m\u001b[0;34m\u001b[0m\u001b[0;34m\u001b[0m\u001b[0m\n\u001b[0m\u001b[1;32m     12\u001b[0m \u001b[0;34m\u001b[0m\u001b[0m\n\u001b[1;32m     13\u001b[0m \u001b[0;34m\u001b[0m\u001b[0m\n",
      "\u001b[0;32m~/opt/miniconda3/lib/python3.9/enum.py\u001b[0m in \u001b[0;36m__call__\u001b[0;34m(cls, value, names, module, qualname, type, start)\u001b[0m\n\u001b[1;32m    332\u001b[0m         \u001b[0;32mreturn\u001b[0m \u001b[0;32mTrue\u001b[0m\u001b[0;34m\u001b[0m\u001b[0;34m\u001b[0m\u001b[0m\n\u001b[1;32m    333\u001b[0m \u001b[0;34m\u001b[0m\u001b[0m\n\u001b[0;32m--> 334\u001b[0;31m     \u001b[0;32mdef\u001b[0m \u001b[0m__call__\u001b[0m\u001b[0;34m(\u001b[0m\u001b[0mcls\u001b[0m\u001b[0;34m,\u001b[0m \u001b[0mvalue\u001b[0m\u001b[0;34m,\u001b[0m \u001b[0mnames\u001b[0m\u001b[0;34m=\u001b[0m\u001b[0;32mNone\u001b[0m\u001b[0;34m,\u001b[0m \u001b[0;34m*\u001b[0m\u001b[0;34m,\u001b[0m \u001b[0mmodule\u001b[0m\u001b[0;34m=\u001b[0m\u001b[0;32mNone\u001b[0m\u001b[0;34m,\u001b[0m \u001b[0mqualname\u001b[0m\u001b[0;34m=\u001b[0m\u001b[0;32mNone\u001b[0m\u001b[0;34m,\u001b[0m \u001b[0mtype\u001b[0m\u001b[0;34m=\u001b[0m\u001b[0;32mNone\u001b[0m\u001b[0;34m,\u001b[0m \u001b[0mstart\u001b[0m\u001b[0;34m=\u001b[0m\u001b[0;36m1\u001b[0m\u001b[0;34m)\u001b[0m\u001b[0;34m:\u001b[0m\u001b[0;34m\u001b[0m\u001b[0;34m\u001b[0m\u001b[0m\n\u001b[0m\u001b[1;32m    335\u001b[0m         \"\"\"\n\u001b[1;32m    336\u001b[0m         \u001b[0mEither\u001b[0m \u001b[0mreturns\u001b[0m \u001b[0man\u001b[0m \u001b[0mexisting\u001b[0m \u001b[0mmember\u001b[0m\u001b[0;34m,\u001b[0m \u001b[0;32mor\u001b[0m \u001b[0mcreates\u001b[0m \u001b[0ma\u001b[0m \u001b[0mnew\u001b[0m \u001b[0menum\u001b[0m \u001b[0;32mclass\u001b[0m\u001b[0;34m.\u001b[0m\u001b[0;34m\u001b[0m\u001b[0;34m\u001b[0m\u001b[0m\n",
      "\u001b[0;31mKeyboardInterrupt\u001b[0m: "
     ]
    }
   ],
   "source": [
    "agent.train()"
   ]
  },
  {
   "cell_type": "code",
   "execution_count": 8,
   "metadata": {},
   "outputs": [
    {
     "name": "stdout",
     "output_type": "stream",
     "text": [
      "WARNING:tensorflow:Compiled the loaded model, but the compiled metrics have yet to be built. `model.compile_metrics` will be empty until you train or evaluate the model.\n"
     ]
    }
   ],
   "source": [
    "agent.model.save(path+'/model.h5')"
   ]
  },
  {
   "attachments": {},
   "cell_type": "markdown",
   "metadata": {},
   "source": [
    "# Test"
   ]
  },
  {
   "cell_type": "code",
   "execution_count": 28,
   "metadata": {},
   "outputs": [
    {
     "name": "stdout",
     "output_type": "stream",
     "text": [
      "WARNING:tensorflow:No training configuration found in the save file, so the model was *not* compiled. Compile it manually.\n"
     ]
    }
   ],
   "source": [
    "test_model = keras.models.load_model(\"train_LSTMCell_A2C/0116-10:48:29_adam_lr7e-4_g0.9_tree/model.h5\")\n",
    "#test_model = agent.model"
   ]
  },
  {
   "cell_type": "code",
   "execution_count": 29,
   "metadata": {},
   "outputs": [],
   "source": [
    "\n",
    "def run_episode(env, model):\n",
    "    next_obs, _ = env.reset()\n",
    "    score = 0\n",
    "    reward = 0.0\n",
    "    action_onehot = np.zeros((agent.nb_actions))\n",
    "    cell_state = [tf.zeros((1,agent.nb_hidden)),tf.zeros((1,agent.nb_hidden))]\n",
    "        \n",
    "    for timestep in range(100):\n",
    "        input = agent.prepare_input(next_obs, agent_id, action_onehot,reward,timestep)\n",
    "        \n",
    "        action_probs, critic_value, cell_state = model([input,cell_state[0],cell_state[1]])\n",
    "        \n",
    "        action_probs = tf.squeeze(action_probs)\n",
    "        action = np.random.choice(agent.nb_actions, p=action_probs.numpy())\n",
    "        action_onehot = np.zeros((agent.nb_actions))\n",
    "        action_onehot[action] = 1\n",
    "\n",
    "        next_obs, all_rewards, dones, info = env.step({agent_id: action})\n",
    "\n",
    "        for agent_handle in env.get_agent_handles():\n",
    "            score += all_rewards[agent_handle]\n",
    "\n",
    "        #render_env(env)\n",
    "        #print('Timestep {}, action = {}, total score = {}'.format(timestep, action_map[action], score))\n",
    "        #tf.print(action_probs)\n",
    "\n",
    "        if dones['__all__']:\n",
    "            #print('All done!')\n",
    "            # print(info['state'][0])\n",
    "            # print(env.agents[0].latest_arrival, env._max_episode_steps)\n",
    "            #print(env.agents[agent_id].position, env.agents[agent_id].target)\n",
    "\n",
    "            if info['state'][0] == TrainState.DONE:\n",
    "                #render_env(env)\n",
    "                print('Timestep {}, action = {}, total score = {}'.format(timestep, action_map[action], score))\n",
    "            return score\n",
    "\n",
    "    print(\"Episode didn't finish after 100 timesteps.\")\n",
    "    return score"
   ]
  },
  {
   "cell_type": "code",
   "execution_count": 30,
   "metadata": {},
   "outputs": [
    {
     "name": "stdout",
     "output_type": "stream",
     "text": [
      "4\n",
      "75\n"
     ]
    }
   ],
   "source": [
    "# print(env.agents[0].earliest_departure)\n",
    "# print(env.agents[0].latest_arrival)"
   ]
  },
  {
   "cell_type": "code",
   "execution_count": 31,
   "metadata": {},
   "outputs": [
    {
     "name": "stdout",
     "output_type": "stream",
     "text": [
      "TrainState.MOVING\n",
      "52 57\n",
      "TrainState.DONE\n",
      "24 26\n",
      "Timestep 15, action = left, total score = 0\n"
     ]
    },
    {
     "name": "stderr",
     "output_type": "stream",
     "text": [
      "/Users/Marvin/opt/miniconda3/lib/python3.9/site-packages/flatland/envs/rail_generators.py:350: UserWarning: Could not set all required cities! Created 3/4\n",
      "  warnings.warn(city_warning)\n"
     ]
    },
    {
     "name": "stdout",
     "output_type": "stream",
     "text": [
      "TrainState.MOVING\n",
      "83 88\n",
      "Episode didn't finish after 100 timesteps.\n",
      "TrainState.MOVING\n",
      "28 30\n",
      "TrainState.DONE\n",
      "42 47\n",
      "Timestep 28, action = left, total score = 0\n",
      "TrainState.MOVING\n",
      "45 49\n",
      "TrainState.MOVING\n",
      "40 43\n",
      "TrainState.DONE\n",
      "121 132\n",
      "Timestep 85, action = left, total score = 0\n",
      "TrainState.DONE\n",
      "47 51\n",
      "Timestep 31, action = left, total score = 0\n",
      "TrainState.MOVING\n",
      "21 23\n",
      "TrainState.MOVING\n",
      "62 66\n",
      "TrainState.DONE\n",
      "92 102\n",
      "Timestep 82, action = left, total score = 0\n",
      "Episode didn't finish after 100 timesteps.\n",
      "TrainState.DONE\n",
      "29 32\n",
      "Timestep 19, action = left, total score = 0\n",
      "TrainState.DONE\n",
      "63 71\n",
      "Timestep 62, action = left, total score = 0\n",
      "TrainState.MOVING\n",
      "38 43\n",
      "TrainState.MOVING\n",
      "49 54\n",
      "Episode didn't finish after 100 timesteps.\n",
      "TrainState.MOVING\n",
      "49 54\n",
      "TrainState.MOVING\n",
      "71 80\n",
      "Episode didn't finish after 100 timesteps.\n",
      "TrainState.DONE\n",
      "51 54\n",
      "Timestep 34, action = left, total score = 0\n",
      "TrainState.MOVING\n",
      "54 57\n",
      "TrainState.MOVING\n",
      "51 57\n"
     ]
    },
    {
     "name": "stderr",
     "output_type": "stream",
     "text": [
      "/Users/Marvin/opt/miniconda3/lib/python3.9/site-packages/flatland/envs/rail_generators.py:350: UserWarning: Could not set all required cities! Created 1/4\n",
      "  warnings.warn(city_warning)\n",
      "/Users/Marvin/opt/miniconda3/lib/python3.9/site-packages/flatland/envs/rail_generators.py:262: UserWarning: [WARNING] Changing to Grid mode to place at least 2 cities.\n",
      "  warnings.warn(\"[WARNING] Changing to Grid mode to place at least 2 cities.\")\n"
     ]
    },
    {
     "name": "stdout",
     "output_type": "stream",
     "text": [
      "TrainState.MOVING\n",
      "73 80\n",
      "TrainState.MOVING\n",
      "21 23\n",
      "TrainState.MOVING\n",
      "48 53\n",
      "TrainState.MOVING\n",
      "24 26\n"
     ]
    },
    {
     "name": "stderr",
     "output_type": "stream",
     "text": [
      "/Users/Marvin/opt/miniconda3/lib/python3.9/site-packages/flatland/envs/rail_generators.py:350: UserWarning: Could not set all required cities! Created 2/4\n",
      "  warnings.warn(city_warning)\n"
     ]
    },
    {
     "name": "stdout",
     "output_type": "stream",
     "text": [
      "TrainState.MOVING\n",
      "60 64\n",
      "TrainState.MOVING\n",
      "66 74\n",
      "TrainState.DONE\n",
      "63 68\n",
      "Timestep 44, action = left, total score = 0\n",
      "TrainState.MOVING\n",
      "46 49\n",
      "TrainState.MOVING\n",
      "69 78\n",
      "TrainState.MOVING\n",
      "33 36\n",
      "TrainState.MOVING\n",
      "64 71\n",
      "TrainState.DONE\n",
      "57 64\n",
      "Timestep 40, action = left, total score = 0\n",
      "TrainState.DONE\n",
      "86 97\n",
      "Timestep 59, action = left, total score = 0\n",
      "TrainState.DONE\n",
      "34 37\n",
      "Timestep 22, action = left, total score = 0\n",
      "TrainState.MOVING\n",
      "61 66\n",
      "TrainState.MOVING\n",
      "48 51\n",
      "TrainState.DONE\n",
      "26 29\n",
      "Timestep 19, action = left, total score = 0\n",
      "TrainState.MOVING\n",
      "57 64\n",
      "TrainState.MOVING\n",
      "69 73\n",
      "TrainState.MOVING\n",
      "28 30\n",
      "TrainState.MOVING\n",
      "92 98\n",
      "TrainState.MOVING\n",
      "71 78\n",
      "TrainState.DONE\n",
      "25 27\n",
      "Timestep 19, action = left, total score = 0\n",
      "TrainState.MOVING\n",
      "30 32\n",
      "TrainState.MOVING\n",
      "53 57\n",
      "TrainState.MOVING\n",
      "75 80\n",
      "TrainState.MOVING\n",
      "42 47\n",
      "TrainState.MOVING\n",
      "39 43\n",
      "TrainState.DONE\n",
      "72 77\n",
      "Timestep 51, action = left, total score = 0\n",
      "TrainState.MOVING\n",
      "30 32\n",
      "TrainState.DONE\n",
      "92 102\n",
      "Timestep 63, action = left, total score = 0\n",
      "TrainState.DONE\n",
      "59 63\n",
      "Timestep 61, action = left, total score = -3\n",
      "TrainState.DONE\n",
      "118 129\n",
      "Timestep 90, action = left, total score = 0\n",
      "Episode didn't finish after 100 timesteps.\n",
      "TrainState.MOVING\n",
      "71 80\n",
      "TrainState.MOVING\n",
      "26 29\n",
      "TrainState.MOVING\n",
      "57 64\n",
      "TrainState.DONE\n",
      "36 40\n",
      "Timestep 30, action = left, total score = 0\n",
      "TrainState.MOVING\n",
      "89 94\n",
      "TrainState.DONE\n",
      "37 40\n",
      "Timestep 26, action = left, total score = 0\n",
      "TrainState.MOVING\n",
      "68 77\n",
      "TrainState.MOVING\n",
      "79 88\n",
      "TrainState.DONE\n",
      "25 27\n",
      "Timestep 16, action = left, total score = 0\n",
      "TrainState.MOVING\n",
      "23 26\n",
      "TrainState.MOVING\n",
      "61 68\n",
      "TrainState.MOVING\n",
      "34 36\n",
      "TrainState.DONE\n",
      "33 37\n",
      "Timestep 22, action = left, total score = 0\n",
      "TrainState.MOVING\n",
      "44 47\n",
      "TrainState.MOVING\n",
      "47 53\n",
      "TrainState.MOVING\n",
      "53 60\n",
      "TrainState.MOVING\n",
      "28 30\n",
      "TrainState.DONE\n",
      "93 104\n",
      "Timestep 61, action = left, total score = 0\n",
      "TrainState.MOVING\n",
      "37 40\n",
      "TrainState.MOVING\n",
      "60 66\n",
      "Episode didn't finish after 100 timesteps.\n",
      "TrainState.DONE\n",
      "24 26\n",
      "Timestep 17, action = left, total score = 0\n",
      "TrainState.MOVING\n",
      "55 60\n",
      "TrainState.DONE\n",
      "61 68\n",
      "Timestep 42, action = left, total score = 0\n",
      "TrainState.MOVING\n",
      "59 66\n",
      "TrainState.DONE\n",
      "92 104\n",
      "Timestep 68, action = left, total score = 0\n",
      "TrainState.DONE\n",
      "37 39\n",
      "Timestep 24, action = left, total score = 0\n",
      "TrainState.DONE\n",
      "77 83\n",
      "Timestep 51, action = left, total score = 0\n",
      "TrainState.MOVING\n",
      "31 34\n",
      "TrainState.MOVING\n",
      "49 53\n",
      "TrainState.MOVING\n",
      "73 78\n",
      "Episode didn't finish after 100 timesteps.\n",
      "TrainState.DONE\n",
      "66 74\n",
      "Timestep 44, action = left, total score = 0\n",
      "TrainState.DONE\n",
      "91 97\n",
      "Timestep 65, action = right, total score = 0\n",
      "TrainState.MOVING\n",
      "24 27\n",
      "TrainState.MOVING\n",
      "25 27\n",
      "TrainState.MOVING\n",
      "44 49\n",
      "TrainState.MOVING\n",
      "37 40\n",
      "TrainState.MOVING\n",
      "37 40\n",
      "TrainState.MOVING\n",
      "60 68\n",
      "TrainState.DONE\n",
      "76 85\n",
      "Timestep 52, action = left, total score = 0\n",
      "[-68, 0, -43, 0, -94, 0, -68, -30, 0, 0, -2, -67, 0, 0, 0, 0, -21, -47, 0, -35, -70, 0, 0, -14, -76, -81, -41, -65, -2, -40, -42, 0, -45, -69, -74, -68, 0, 0, 0, -41, -66, 0, -43, -70, -85, -63, -16, 0, -45, -65, -73, -68, -24, 0, -43, 0, -3, 0, 0, -32, -57, -65, 0, -57, 0, -43, -72, 0, -62, -51, -20, 0, -73, -46, -68, -54, 0, -82, -47, 0, 0, -69, 0, -12, 0, 0, 0, -93, -49, -58, 0, 0, 0, -90, -83, -65, -61, -75, -42, 0]\n",
      "0.37\n"
     ]
    }
   ],
   "source": [
    "out = []\n",
    "for i in range(100):\n",
    "    out.append(run_episode(env, test_model))\n",
    "\n",
    "    \n",
    "print(out)\n",
    "print(out.count(0)/len(out))"
   ]
  },
  {
   "cell_type": "code",
   "execution_count": null,
   "metadata": {},
   "outputs": [],
   "source": []
  }
 ],
 "metadata": {
  "kernelspec": {
   "display_name": "base",
   "language": "python",
   "name": "python3"
  },
  "language_info": {
   "codemirror_mode": {
    "name": "ipython",
    "version": 3
   },
   "file_extension": ".py",
   "mimetype": "text/x-python",
   "name": "python",
   "nbconvert_exporter": "python",
   "pygments_lexer": "ipython3",
   "version": "3.9.5"
  },
  "vscode": {
   "interpreter": {
    "hash": "7b19d276b38a92b4edf272a17a0f3c1c5821b8b960b3f92721d58d5de9b921e9"
   }
  }
 },
 "nbformat": 4,
 "nbformat_minor": 2
}
